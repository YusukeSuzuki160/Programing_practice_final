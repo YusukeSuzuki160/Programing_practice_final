{
 "cells": [
  {
   "cell_type": "code",
   "execution_count": 1,
   "id": "3efb88a9-2d75-46f8-ad0c-48cb959e8f78",
   "metadata": {},
   "outputs": [],
   "source": [
    "from PIL import Image\n",
    "import numpy as np\n",
    "import ICA\n",
    "import matplotlib.pyplot as plt\n",
    "import math\n",
    "\n",
    "data1 = np.array(Image.open(\"data/image1.png\").convert('L'))\n",
    "data2 = np.array(Image.open(\"data/image2.png\").convert('L'))\n",
    "height = data1.shape[0]\n",
    "width = data2.shape[1]"
   ]
  },
  {
   "cell_type": "code",
   "execution_count": 2,
   "id": "ddb4510f-ddca-4de2-8f73-60ed2f002448",
   "metadata": {},
   "outputs": [
    {
     "data": {
      "text/plain": [
       "array([[179, 179, 179, ..., 133, 113, 104],\n",
       "       [179, 179, 179, ..., 129, 121,  97],\n",
       "       [179, 179, 179, ..., 130, 117, 106],\n",
       "       ...,\n",
       "       [ 60,  60,  60, ..., 145, 146, 144],\n",
       "       [ 60,  60,  62, ..., 142, 142, 142],\n",
       "       [ 17,  60,  62, ..., 142, 142, 142]], dtype=uint8)"
      ]
     },
     "execution_count": 2,
     "metadata": {},
     "output_type": "execute_result"
    }
   ],
   "source": [
    "data1"
   ]
  },
  {
   "cell_type": "code",
   "execution_count": 3,
   "id": "199c01a5-71d6-4f09-9906-bbc77d56129c",
   "metadata": {},
   "outputs": [
    {
     "data": {
      "text/plain": [
       "array([[173, 173, 173, ..., 146, 127, 113],\n",
       "       [173, 173, 173, ..., 142, 133, 106],\n",
       "       [173, 173, 173, ..., 142, 130, 113],\n",
       "       ...,\n",
       "       [ 54,  54,  56, ..., 131, 130, 129],\n",
       "       [ 54,  54,  60, ..., 130, 130, 132],\n",
       "       [ 26,  54,  60, ..., 130, 130, 132]], dtype=uint8)"
      ]
     },
     "execution_count": 3,
     "metadata": {},
     "output_type": "execute_result"
    }
   ],
   "source": [
    "data2"
   ]
  },
  {
   "cell_type": "code",
   "execution_count": 4,
   "id": "6be4b0e7-c5d1-4089-8c29-4cedb170b4fd",
   "metadata": {},
   "outputs": [
    {
     "data": {
      "text/plain": [
       "array([179, 179, 179, ..., 142, 142, 142], dtype=uint8)"
      ]
     },
     "execution_count": 4,
     "metadata": {},
     "output_type": "execute_result"
    }
   ],
   "source": [
    "data1 = data1.flatten()\n",
    "data1"
   ]
  },
  {
   "cell_type": "code",
   "execution_count": 5,
   "id": "85c66c85-7d34-4e79-93f1-19b20572f60c",
   "metadata": {},
   "outputs": [
    {
     "data": {
      "text/plain": [
       "array([173, 173, 173, ..., 130, 130, 132], dtype=uint8)"
      ]
     },
     "execution_count": 5,
     "metadata": {},
     "output_type": "execute_result"
    }
   ],
   "source": [
    "data2 = data2.flatten()\n",
    "data2"
   ]
  },
  {
   "cell_type": "code",
   "execution_count": 6,
   "id": "4f3137d7-c14c-43d7-90d3-11f9857b27c2",
   "metadata": {},
   "outputs": [
    {
     "data": {
      "text/plain": [
       "matrix([[179, 173],\n",
       "        [179, 173],\n",
       "        [179, 173],\n",
       "        ...,\n",
       "        [142, 130],\n",
       "        [142, 130],\n",
       "        [142, 132]], dtype=uint8)"
      ]
     },
     "execution_count": 6,
     "metadata": {},
     "output_type": "execute_result"
    }
   ],
   "source": [
    "data = np.asmatrix(np.dstack([data1, data2]))\n",
    "data"
   ]
  },
  {
   "cell_type": "code",
   "execution_count": 7,
   "id": "f61e3215-bbff-4382-812e-b417c4bb899c",
   "metadata": {},
   "outputs": [],
   "source": [
    "w = np.array([[4 / 5, 3 / 5], [1 / math.sqrt(2), 1 / math.sqrt(2)]])\n",
    "ans = ICA.answer(w, data, 2)\n",
    "a0, a1 = np.split(ans, 2 ,1)"
   ]
  },
  {
   "cell_type": "code",
   "execution_count": 8,
   "id": "159e6315-f3fd-4d85-a779-168f4dd9f6fb",
   "metadata": {},
   "outputs": [
    {
     "data": {
      "text/plain": [
       "matrix([[3.95761974],\n",
       "        [3.95761974],\n",
       "        [3.95761974],\n",
       "        ...,\n",
       "        [3.47408141],\n",
       "        [3.47408141],\n",
       "        [3.38167621]])"
      ]
     },
     "execution_count": 8,
     "metadata": {},
     "output_type": "execute_result"
    }
   ],
   "source": [
    "a0"
   ]
  },
  {
   "cell_type": "code",
   "execution_count": 9,
   "id": "8b729ae0-87e8-4cf5-a929-df41dd471ac9",
   "metadata": {},
   "outputs": [
    {
     "data": {
      "text/plain": [
       "matrix([[3.11948214],\n",
       "        [3.11948214],\n",
       "        [3.11948214],\n",
       "        ...,\n",
       "        [2.00666985],\n",
       "        [2.00666985],\n",
       "        [2.13594849]])"
      ]
     },
     "execution_count": 9,
     "metadata": {},
     "output_type": "execute_result"
    }
   ],
   "source": [
    "a1"
   ]
  },
  {
   "cell_type": "code",
   "execution_count": 10,
   "id": "a4668015-3ea2-4c5f-9920-a85242db96b9",
   "metadata": {},
   "outputs": [
    {
     "data": {
      "text/plain": [
       "matrix([[ 3.95761974,  3.95761974,  3.95761974, ...,  2.13396816,\n",
       "          1.67654722,  1.72251196],\n",
       "        [ 3.95761974,  3.95761974,  3.95761974, ...,  2.05172449,\n",
       "          1.93343975,  1.57858555],\n",
       "        [ 3.95761974,  3.95761974,  3.95761974, ...,  2.11848801,\n",
       "          1.80499348,  1.856039  ],\n",
       "        ...,\n",
       "        [ 1.51087062,  1.51087062,  1.41846542, ...,  3.62816936,\n",
       "          3.74113548,  3.65381104],\n",
       "        [ 1.51087062,  1.51087062,  1.36718205, ...,  3.47408141,\n",
       "          3.47408141,  3.38167621],\n",
       "        [-0.06628781,  1.51087062,  1.36718205, ...,  3.47408141,\n",
       "          3.47408141,  3.38167621]])"
      ]
     },
     "execution_count": 10,
     "metadata": {},
     "output_type": "execute_result"
    }
   ],
   "source": [
    "a0 = a0.reshape(height, width)\n",
    "a0"
   ]
  },
  {
   "cell_type": "code",
   "execution_count": 11,
   "id": "2055bc9f-4ec0-48f3-afab-8090c80d3068",
   "metadata": {},
   "outputs": [
    {
     "data": {
      "text/plain": [
       "matrix([[3.11948214, 3.11948214, 3.11948214, ..., 3.4463073 , 3.11906751,\n",
       "         2.6195253 ],\n",
       "        [3.11948214, 3.11948214, 3.11948214, ..., 3.36793148, 3.14654051,\n",
       "         2.48236761],\n",
       "        [3.11948214, 3.11948214, 3.11948214, ..., 3.32288611, 3.13280401,\n",
       "         2.52943456],\n",
       "        ...,\n",
       "        [0.78780141, 0.78780141, 0.91708005, ..., 1.93617307, 1.82648838,\n",
       "         1.85193979],\n",
       "        [0.78780141, 0.78780141, 1.08554661, ..., 2.00666985, 2.00666985,\n",
       "         2.13594849],\n",
       "        [0.91485115, 0.78780141, 1.08554661, ..., 2.00666985, 2.00666985,\n",
       "         2.13594849]])"
      ]
     },
     "execution_count": 11,
     "metadata": {},
     "output_type": "execute_result"
    }
   ],
   "source": [
    "a1 = a1.reshape(height, width)\n",
    "a1"
   ]
  },
  {
   "cell_type": "code",
   "execution_count": 12,
   "id": "61891409-5bf6-465e-ac0f-a219f2af42d4",
   "metadata": {},
   "outputs": [],
   "source": [
    "a0 = np.where(a0 < 0, 0, a0)\n",
    "a1 = np.where(a1 < 0, 0, a1)"
   ]
  },
  {
   "cell_type": "code",
   "execution_count": 13,
   "id": "e130ddcc-4625-4d51-b59d-ca3bb505d5dd",
   "metadata": {},
   "outputs": [
    {
     "data": {
      "text/plain": [
       "array([[3.95761974, 3.95761974, 3.95761974, ..., 2.13396816, 1.67654722,\n",
       "        1.72251196],\n",
       "       [3.95761974, 3.95761974, 3.95761974, ..., 2.05172449, 1.93343975,\n",
       "        1.57858555],\n",
       "       [3.95761974, 3.95761974, 3.95761974, ..., 2.11848801, 1.80499348,\n",
       "        1.856039  ],\n",
       "       ...,\n",
       "       [1.51087062, 1.51087062, 1.41846542, ..., 3.62816936, 3.74113548,\n",
       "        3.65381104],\n",
       "       [1.51087062, 1.51087062, 1.36718205, ..., 3.47408141, 3.47408141,\n",
       "        3.38167621],\n",
       "       [0.        , 1.51087062, 1.36718205, ..., 3.47408141, 3.47408141,\n",
       "        3.38167621]])"
      ]
     },
     "execution_count": 13,
     "metadata": {},
     "output_type": "execute_result"
    }
   ],
   "source": [
    "a0"
   ]
  },
  {
   "cell_type": "code",
   "execution_count": 14,
   "id": "6cd774df-cc70-43ea-914c-0957d6a66478",
   "metadata": {},
   "outputs": [
    {
     "data": {
      "text/plain": [
       "array([[3.11948214, 3.11948214, 3.11948214, ..., 3.4463073 , 3.11906751,\n",
       "        2.6195253 ],\n",
       "       [3.11948214, 3.11948214, 3.11948214, ..., 3.36793148, 3.14654051,\n",
       "        2.48236761],\n",
       "       [3.11948214, 3.11948214, 3.11948214, ..., 3.32288611, 3.13280401,\n",
       "        2.52943456],\n",
       "       ...,\n",
       "       [0.78780141, 0.78780141, 0.91708005, ..., 1.93617307, 1.82648838,\n",
       "        1.85193979],\n",
       "       [0.78780141, 0.78780141, 1.08554661, ..., 2.00666985, 2.00666985,\n",
       "        2.13594849],\n",
       "       [0.91485115, 0.78780141, 1.08554661, ..., 2.00666985, 2.00666985,\n",
       "        2.13594849]])"
      ]
     },
     "execution_count": 14,
     "metadata": {},
     "output_type": "execute_result"
    }
   ],
   "source": [
    "a1"
   ]
  },
  {
   "cell_type": "code",
   "execution_count": 15,
   "id": "f34931e7-4274-43da-bc6a-29d60f4999f7",
   "metadata": {},
   "outputs": [],
   "source": [
    "a0 = (50 * a0).astype(np.uint8)\n",
    "a1 = (50 * a1).astype(np.uint8)"
   ]
  },
  {
   "cell_type": "code",
   "execution_count": 16,
   "id": "ec3e538c-bbdd-491e-b2a2-fd0b25797f37",
   "metadata": {},
   "outputs": [
    {
     "data": {
      "text/plain": [
       "array([[197, 197, 197, ..., 106,  83,  86],\n",
       "       [197, 197, 197, ..., 102,  96,  78],\n",
       "       [197, 197, 197, ..., 105,  90,  92],\n",
       "       ...,\n",
       "       [ 75,  75,  70, ..., 181, 187, 182],\n",
       "       [ 75,  75,  68, ..., 173, 173, 169],\n",
       "       [  0,  75,  68, ..., 173, 173, 169]], dtype=uint8)"
      ]
     },
     "execution_count": 16,
     "metadata": {},
     "output_type": "execute_result"
    }
   ],
   "source": [
    "a0"
   ]
  },
  {
   "cell_type": "code",
   "execution_count": 17,
   "id": "1af4f8c7-2264-402b-8fd4-ba3160b90c24",
   "metadata": {},
   "outputs": [
    {
     "data": {
      "text/plain": [
       "array([[155, 155, 155, ..., 172, 155, 130],\n",
       "       [155, 155, 155, ..., 168, 157, 124],\n",
       "       [155, 155, 155, ..., 166, 156, 126],\n",
       "       ...,\n",
       "       [ 39,  39,  45, ...,  96,  91,  92],\n",
       "       [ 39,  39,  54, ..., 100, 100, 106],\n",
       "       [ 45,  39,  54, ..., 100, 100, 106]], dtype=uint8)"
      ]
     },
     "execution_count": 17,
     "metadata": {},
     "output_type": "execute_result"
    }
   ],
   "source": [
    "a1"
   ]
  },
  {
   "cell_type": "code",
   "execution_count": 18,
   "id": "23a18c20-4b3f-447e-84b0-f404627954d1",
   "metadata": {},
   "outputs": [],
   "source": [
    "answer1 = Image.fromarray(np.asarray(a0))\n",
    "answer2 = Image.fromarray(np.asarray(a1))\n",
    "\n",
    "answer1.save(\"answer3.png\")\n",
    "answer2.save(\"answer4.png\")"
   ]
  },
  {
   "cell_type": "code",
   "execution_count": null,
   "id": "cf55f4d5-acba-4bbb-bbee-de3b4394af74",
   "metadata": {},
   "outputs": [],
   "source": []
  }
 ],
 "metadata": {
  "kernelspec": {
   "display_name": "Python 3 (ipykernel)",
   "language": "python",
   "name": "python3"
  },
  "language_info": {
   "codemirror_mode": {
    "name": "ipython",
    "version": 3
   },
   "file_extension": ".py",
   "mimetype": "text/x-python",
   "name": "python",
   "nbconvert_exporter": "python",
   "pygments_lexer": "ipython3",
   "version": "3.9.7"
  }
 },
 "nbformat": 4,
 "nbformat_minor": 5
}
